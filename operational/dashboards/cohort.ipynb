{
 "cells": [
  {
   "cell_type": "code",
   "execution_count": 3,
   "id": "f16c90e4-9d5f-4bb2-8dcd-557631cb7fe2",
   "metadata": {},
   "outputs": [
    {
     "name": "stdout",
     "output_type": "stream",
     "text": [
      "Módulos disponíveis: ['sys', 'builtins', '_frozen_importlib', '_imp', '_thread', '_warnings', '_weakref', 'winreg', '_io', 'marshal', 'nt', '_frozen_importlib_external', 'time', 'zipimport', '_codecs', 'codecs', 'encodings.aliases', 'encodings', 'encodings.utf_8', 'encodings.cp1252'] ...\n"
     ]
    }
   ],
   "source": [
    "# operational/dashboards/cohort.py\n",
    "import streamlit as st\n",
    "import pandas as pd\n",
    "from google.oauth2 import service_account\n",
    "from googleapiclient.discovery import build\n",
    "\n",
    "def get_sheet_data(service, spreadsheet_id, range_name='Sheet1!A1:Z1000'):\n",
    "    \n",
    "    # Carrega dados de uma planilha do Google Sheets como DataFrame    \n",
    "    try:\n",
    "        result = service.spreadsheets().values().get(\n",
    "            spreadsheetId=spreadsheet_id,\n",
    "            range=range_name\n",
    "        ).execute()\n",
    "        values = result.get('values', [])\n",
    "        if not values:\n",
    "            return pd.DataFrame()\n",
    "        return pd.DataFrame(values[1:], columns=values[0])\n",
    "    except Exception as e:\n",
    "        st.error(f\"❌ Erro ao carregar dados: {e}\")\n",
    "        return pd.DataFrame()\n",
    "\n",
    "def run():\n",
    "    st.subheader(\"📅 Análise de Coorte\")\n",
    "    try:\n",
    "        # Carrega credenciais do Secrets\n",
    "        credentials_json = st.secrets[\"google_sheets\"][\"credentials_json\"]\n",
    "        creds = service_account.Credentials.from_service_account_info(\n",
    "            credentials_json,\n",
    "            scopes=['https://www.googleapis.com/auth/spreadsheets.readonly']\n",
    "        )\n",
    "        service = build('sheets', 'v4', credentials=creds)\n",
    "\n",
    "        SPREADSHEET_ID = '15k4L7Sib0ZRTWfeo_wgR5F4YLGQkGEiPZPSPFjwZHHw'\n",
    "        df = get_sheet_data(service, SPREADSHEET_ID, 'Cohort!A1:G100')\n",
    "\n",
    "        if df.empty:\n",
    "            st.warning(\"Nenhum dado encontrado na aba 'Cohort'.\")\n",
    "        else:\n",
    "            st.dataframe(df, use_container_width=True)\n",
    "            st.metric(\"Total de Coortes\", len(df))\n",
    "    except Exception as e:\n",
    "        st.error(f\"❌ Erro ao conectar ao Google Sheets: {e}\")\n",
    "\n",
    "# Debug: Mostra módulos carregados\n",
    "if __name__ == \"__main__\":\n",
    "    print('Módulos disponíveis:', list(sys.modules.keys())[:20], '...')"
   ]
  },
  {
   "cell_type": "code",
   "execution_count": null,
   "id": "829be59e-509f-4ec4-85c2-91138c93c28e",
   "metadata": {},
   "outputs": [],
   "source": []
  }
 ],
 "metadata": {
  "kernelspec": {
   "display_name": "Python 3 (ipykernel)",
   "language": "python",
   "name": "python3"
  },
  "language_info": {
   "codemirror_mode": {
    "name": "ipython",
    "version": 3
   },
   "file_extension": ".py",
   "mimetype": "text/x-python",
   "name": "python",
   "nbconvert_exporter": "python",
   "pygments_lexer": "ipython3",
   "version": "3.11.9"
  }
 },
 "nbformat": 4,
 "nbformat_minor": 5
}
