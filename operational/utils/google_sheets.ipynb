{
 "cells": [
  {
   "cell_type": "code",
   "execution_count": 3,
   "id": "336caf60-22fb-4265-957f-21677678f13b",
   "metadata": {},
   "outputs": [],
   "source": [
    "'''\n",
    "Módulo para ler dados do Google Sheets\n",
    "'''\n",
    "\n",
    "import gspread\n",
    "from oauth2client.service_account import ServiceAccountCredentials\n",
    "import pandas as pd\n",
    "\n",
    "def connect_to_sheet(credentials_path, sheet_id, worksheet_name=\"Sheet1\"):\n",
    "    '''\n",
    "    Conecta ao Google e retorna um DataFrame.\n",
    "\n",
    "    Args:\n",
    "        credentials_path (str): Caminho para o arquivo credentials.json\n",
    "        sheet_id (str): ID da planilha (parte do URL)\n",
    "        worksheet_name (str): Nome da aba (ex: \"Dados\", \"Sheet1\")\n",
    "\n",
    "    Returns:\n",
    "        pd.DataFrame: Dados da planilha\n",
    "    '''\n",
    "\n",
    "    scope = ['https://spreadsheets.google.com/feeds', 'https://www.googleapis.com/auth/drive']\n",
    "    creds = ServiceAccountCredentials.from_json_keyfile_name(credentials_path, scope)\n",
    "    client = gspread.authorize(creds)\n",
    "\n",
    "    sheet = client.open_by_key(sheet_id).worksheet(worksheet_name)\n",
    "    data = sheet.get_all_records()\n",
    "    return pd.DataFrame(data)"
   ]
  },
  {
   "cell_type": "code",
   "execution_count": null,
   "id": "694a7504-31b9-4d2b-bb83-20fd55730b4e",
   "metadata": {},
   "outputs": [],
   "source": []
  }
 ],
 "metadata": {
  "kernelspec": {
   "display_name": "Python 3 (ipykernel)",
   "language": "python",
   "name": "python3"
  },
  "language_info": {
   "codemirror_mode": {
    "name": "ipython",
    "version": 3
   },
   "file_extension": ".py",
   "mimetype": "text/x-python",
   "name": "python",
   "nbconvert_exporter": "python",
   "pygments_lexer": "ipython3",
   "version": "3.13.1"
  }
 },
 "nbformat": 4,
 "nbformat_minor": 5
}
