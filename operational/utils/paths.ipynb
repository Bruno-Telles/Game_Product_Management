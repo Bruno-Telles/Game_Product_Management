{
 "cells": [
  {
   "cell_type": "code",
   "execution_count": 2,
   "id": "99345034-f3ee-446b-a8a0-c7b5ab815828",
   "metadata": {},
   "outputs": [
    {
     "ename": "NameError",
     "evalue": "name '__file__' is not defined",
     "output_type": "error",
     "traceback": [
      "\u001b[31m---------------------------------------------------------------------------\u001b[39m",
      "\u001b[31mNameError\u001b[39m                                 Traceback (most recent call last)",
      "\u001b[36mCell\u001b[39m\u001b[36m \u001b[39m\u001b[32mIn[2]\u001b[39m\u001b[32m, line 6\u001b[39m\n\u001b[32m      3\u001b[39m \u001b[38;5;28;01mfrom\u001b[39;00m\u001b[38;5;250m \u001b[39m\u001b[34;01mpathlib\u001b[39;00m\u001b[38;5;250m \u001b[39m\u001b[38;5;28;01mimport\u001b[39;00m Path\n\u001b[32m      5\u001b[39m \u001b[38;5;66;03m# A partir deste arquivo, volta 3 níveis: operational/utils → operational → raiz\u001b[39;00m\n\u001b[32m----> \u001b[39m\u001b[32m6\u001b[39m ROOT_DIR = Path(\u001b[34;43m__file__\u001b[39;49m).parent.parent.parent.resolve()\n\u001b[32m      8\u001b[39m CONFIG_DIR = ROOT_DIR / \u001b[33m\"\u001b[39m\u001b[33mconfig\u001b[39m\u001b[33m\"\u001b[39m\n\u001b[32m      9\u001b[39m DATA_DIR = ROOT_DIR / \u001b[33m\"\u001b[39m\u001b[33mdata\u001b[39m\u001b[33m\"\u001b[39m\n",
      "\u001b[31mNameError\u001b[39m: name '__file__' is not defined"
     ]
    }
   ],
   "source": [
    "# operational/utils/paths.py\n",
    "import os\n",
    "from pathlib import Path\n",
    "\n",
    "# A partir deste arquivo, volta 3 níveis: operational/utils → operational → raiz\n",
    "ROOT_DIR = Path(__file__).parent.parent.parent.resolve()\n",
    "\n",
    "CONFIG_DIR = ROOT_DIR / \"config\"\n",
    "DATA_DIR = ROOT_DIR / \"data\"\n",
    "CREDENTIALS_PATH = CONFIG_DIR / \"credentials.json\"\n",
    "\n",
    "def get_root():\n",
    "    'Retorna a raiz do projeto.'\n",
    "    return ROOT_DIR\n",
    "\n",
    "def verify_project_structure():\n",
    "    'Verifica se a estrutura de pastas está correta.'\n",
    "    if not CREDENTIALS_PATH.exists():\n",
    "        raise FileNotFoundError(f\"Arquivo não encontrado: {CREDENTIALS_PATH}\")\n",
    "    return True"
   ]
  },
  {
   "cell_type": "code",
   "execution_count": null,
   "id": "78b89b4c-0b32-4cda-9089-e1650d019e01",
   "metadata": {},
   "outputs": [],
   "source": []
  }
 ],
 "metadata": {
  "kernelspec": {
   "display_name": "Python 3 (ipykernel)",
   "language": "python",
   "name": "python3"
  },
  "language_info": {
   "codemirror_mode": {
    "name": "ipython",
    "version": 3
   },
   "file_extension": ".py",
   "mimetype": "text/x-python",
   "name": "python",
   "nbconvert_exporter": "python",
   "pygments_lexer": "ipython3",
   "version": "3.11.9"
  }
 },
 "nbformat": 4,
 "nbformat_minor": 5
}
