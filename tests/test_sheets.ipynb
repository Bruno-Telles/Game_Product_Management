{
 "cells": [
  {
   "cell_type": "code",
   "execution_count": null,
   "id": "88ed0da2-7fc4-43ff-bf8d-46ffa413fec4",
   "metadata": {},
   "outputs": [],
   "source": [
    "# test_sheets.py\n",
    "import gspread\n",
    "import os\n",
    "from google.oauth2 import service_account\n",
    "from googleapiclient.discovery import build\n",
    "import pandas as pd\n",
    "\n",
    "# 1. Pasta do script atual: operational/utils\n",
    "script_dir = os.path.dirname(os.path.abspath(__file__))\n",
    "\n",
    "# 2. Volta duas pastas para chegar na raiz do projeto\n",
    "project_root = os.path.dirname(os.path.dirname(script_dir))  # volta de utils → operational → raiz\n",
    "\n",
    "# 3. Monta o caminho para config\n",
    "CREDENTIALS_PATH = os.path.join(project_root, 'config', 'credentials.json')\n",
    "\n",
    "# 4. Verifica se o arquivo existe\n",
    "if not os.path.exists(CREDENTIALS_PATH):\n",
    "    print(\"Diretório atual:\", os.getcwd())\n",
    "    print(\"Caminho calculado:\", CREDENTIALS_PATH)\n",
    "    raise FileNotFoundError(f\"Arquivo não encontrado: {CREDENTIALS_PATH}\")\n",
    "\n",
    "# 5. Define os escopos\n",
    "SCOPES = ['https://www.googleapis.com/auth/spreadsheets.readonly']\n",
    "\n",
    "# 6. Carrega credenciais\n",
    "creds = service_account.Credentials.from_service_account_file(\n",
    "    CREDENTIALS_PATH, scopes=SCOPES\n",
    ")\n",
    "\n",
    "# 7. Testa conexão com Sheets (coloque seu ID real)\n",
    "service = build('sheets', 'v4', credentials=creds)\n",
    "SPREADSHEET_ID = '15k4L7Sib0ZRTWfeo_wgR5F4YLGQkGEiPZPSPFjwZHHw'  # Substitua pelo ID real\n",
    "RANGE_NAME = 'Sheet1!A1:F2'  # Ajuste conforme sua estrutura\n",
    "\n",
    "# 8. Faz a requisição\n",
    "result = service.spreadsheets().values().get(\n",
    "    spreadsheetId=SPREADSHEET_ID,\n",
    "    range=RANGE_NAME\n",
    ").execute()\n",
    "\n",
    "values = result.get('values', [])\n",
    "\n",
    "if not values:\n",
    "    print(\"⚠️ Nenhum dado encontrado na planilha.\")\n",
    "else:\n",
    "    df = pd.DataFrame(values[1:], columns=values[0])\n",
    "    print(\"✅ Dados carregados com sucesso!\")\n",
    "    print(df.head())"
   ]
  },
  {
   "cell_type": "code",
   "execution_count": null,
   "id": "35033be8-d98e-491f-8df0-b747945f5088",
   "metadata": {},
   "outputs": [],
   "source": []
  }
 ],
 "metadata": {
  "kernelspec": {
   "display_name": "Python 3 (ipykernel)",
   "language": "python",
   "name": "python3"
  },
  "language_info": {
   "codemirror_mode": {
    "name": "ipython",
    "version": 3
   },
   "file_extension": ".py",
   "mimetype": "text/x-python",
   "name": "python",
   "nbconvert_exporter": "python",
   "pygments_lexer": "ipython3",
   "version": "3.11.9"
  }
 },
 "nbformat": 4,
 "nbformat_minor": 5
}
